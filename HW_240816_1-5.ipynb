{
 "cells": [
  {
   "cell_type": "markdown",
   "id": "06fc620c-602d-49ab-af8d-8cb0ebaa6874",
   "metadata": {},
   "source": [
    "# Домашняя работа от 16/08/2024 по Python в Zerokoder\n"
   ]
  },
  {
   "cell_type": "markdown",
   "id": "738219a5-7bd3-4e04-ac36-1fd160051861",
   "metadata": {},
   "source": [
    "# 1.\tСоздать калькулятор — программу, в которой мы вводим 2 числа, и с ними производятся сразу все математические действия, рассмотренные в уроке."
   ]
  },
  {
   "cell_type": "code",
   "execution_count": 21,
   "id": "27745a29-76c2-413d-8ad1-bb219d12ffd3",
   "metadata": {},
   "outputs": [
    {
     "name": "stdin",
     "output_type": "stream",
     "text": [
      "Введите первое число   52.13\n",
      "Введите второе число   12.34\n"
     ]
    },
    {
     "name": "stdout",
     "output_type": "stream",
     "text": [
      "\n",
      "Результаты математических операций\n",
      " над введенными Вами числами ниже:\n",
      "\n",
      "первое число =  52.13\n",
      "второе число =  12.34\n",
      "\n",
      "\n",
      "результат сложения = 64.47\n",
      "\n",
      "результат вычитания = 39.79\n",
      "\n",
      "результат умножения = 643.284\n",
      "\n",
      "результат деления = 4.224\n",
      "\n",
      "целая часть в результате деления = 4.0\n",
      "\n",
      "остаток в результате деления = 2.77\n",
      "\n",
      "результат возведения первого числа\n",
      " в степень второго числа = 1.5447653720559253e+21\n",
      "\n"
     ]
    }
   ],
   "source": [
    "# Объявление переменных\n",
    "first_namber = float(input(\"Введите первое число  \"))\n",
    "second_namber = float(input(\"Введите второе число  \"))\n",
    "\n",
    "# Математические операции над введенными числами\n",
    "# Сложение \n",
    "print(f'\\nРезультаты математических операций\\n над введенными Вами числами ниже:\\n\\nпервое число =  {first_namber}\\nвторое число =  {second_namber}\\n')\n",
    "print(f'\\nрезультат сложения = {round((first_namber) + (second_namber), 3)}')\n",
    "\n",
    "# Вычитание\n",
    "print(f'\\nрезультат вычитания = {round((first_namber) - (second_namber), 3)}')\n",
    "\n",
    "# Умножение\n",
    "print(f'\\nрезультат умножения = {round((first_namber) * (second_namber), 3)}')\n",
    "\n",
    "# Деление\n",
    "print(f'\\nрезультат деления = {round((first_namber) / (second_namber), 3)}')\n",
    "\n",
    "# Целая часть от деления\n",
    "print(f'\\nцелая часть в результате деления = {round((first_namber) // (second_namber), 3)}')\n",
    "\n",
    "# Остаток от деления\n",
    "print(f'\\nостаток в результате деления = {round((first_namber) % (second_namber), 3)}')\n",
    "\n",
    "# Возведение в степень\n",
    "print(f'\\nрезультат возведения первого числа\\n в степень второго числа = {round((first_namber) ** (second_namber), 3)}\\n')"
   ]
  },
  {
   "cell_type": "markdown",
   "id": "e968457f-a5ba-4f95-a388-709419c9eec6",
   "metadata": {},
   "source": [
    "# 2.\tНаписать программу, которая будет запрашивать у пользователя его имя и возраст, а затем выводить приветствие “Привет [имя]! Тебе [возраст]”."
   ]
  },
  {
   "cell_type": "code",
   "execution_count": 23,
   "id": "fd3bb8ac-d3cc-4f34-b959-4c1535bcd22f",
   "metadata": {},
   "outputs": [
    {
     "name": "stdin",
     "output_type": "stream",
     "text": [
      "Введите ваше имя:  Дмитрий\n",
      "Введите ваш возраст:  57\n"
     ]
    },
    {
     "name": "stdout",
     "output_type": "stream",
     "text": [
      "\n",
      "Привет, Дмитрий! Тебе 57 лет.\n",
      "Вы прожили примерно 684 месяцев,  или 20805 дней, или и 499320 часов.\n",
      "\n"
     ]
    }
   ],
   "source": [
    "# Запрашиваем имя и возраст пользователя\n",
    "name = input(\"Введите ваше имя: \")\n",
    "age = int(input(\"Введите ваш возраст: \"))\n",
    "\n",
    "# Вычисляем количество прожитых месяцев, дней и часов\n",
    "months_lived = age * 12\n",
    "days_lived = age * 365  # Упрощённое вычисление без учёта високосных лет\n",
    "hours_lived = days_lived * 24\n",
    "\n",
    "# Выводим приветствие и информацию о возрасте\n",
    "print(f\"\\nПривет, {name}! Тебе {age} лет.\")\n",
    "print(f\"Вы прожили примерно {months_lived} месяцев,  или {days_lived} дней, или и {hours_lived} часов.\\n\")"
   ]
  },
  {
   "cell_type": "markdown",
   "id": "acfa4cef-a4e2-40f5-b95b-19fb0c56015d",
   "metadata": {},
   "source": [
    "# 3.\tНаписать программу, которая будет запрашивать у пользователя две строки с помощью инпутов, а затем производить их конкатенацию."
   ]
  },
  {
   "cell_type": "code",
   "execution_count": 25,
   "id": "acf7394b-8d0c-40e7-bef1-f52fd522805e",
   "metadata": {},
   "outputs": [
    {
     "name": "stdin",
     "output_type": "stream",
     "text": [
      "Введите первую строку:  А и Б сидели на трубе\n",
      "Введите вторую строку:  А упала, Б пропала\n"
     ]
    },
    {
     "name": "stdout",
     "output_type": "stream",
     "text": [
      "Результат конкатенации: А и Б сидели на трубеА упала, Б пропала\n"
     ]
    }
   ],
   "source": [
    "# Запрашиваем у пользователя первую строку\n",
    "first_string = input(\"Введите первую строку: \")\n",
    "\n",
    "# Запрашиваем у пользователя вторую строку\n",
    "second_string = input(\"Введите вторую строку: \")\n",
    "\n",
    "# Конкатенация строк\n",
    "concatenated_string = first_string + second_string\n",
    "\n",
    "# Выводим результат\n",
    "print(f\"Результат конкатенации: {concatenated_string}\")"
   ]
  },
  {
   "cell_type": "markdown",
   "id": "d0d4a101-ad04-4fa1-8779-1bb06768b18c",
   "metadata": {},
   "source": [
    "# 4.\tПлощадь прямоугольника. Написать программу, которая будет запрашивать у пользователя длину и ширину прямоугольника, а затем вычислять площадь."
   ]
  },
  {
   "cell_type": "code",
   "execution_count": 34,
   "id": "5c9d8a1c-0ba6-4f0e-aeb5-8ff2c52d6153",
   "metadata": {},
   "outputs": [
    {
     "name": "stdin",
     "output_type": "stream",
     "text": [
      "Введите длину прямоугольника:  12\n",
      "Введите ширину прямоугольника:  8\n"
     ]
    },
    {
     "name": "stdout",
     "output_type": "stream",
     "text": [
      "Площадь прямоугольника: 96.0\n"
     ]
    }
   ],
   "source": [
    "# Запрашиваем у пользователя длину прямоугольника\n",
    "length = float(input(\"Введите длину прямоугольника: \"))\n",
    "\n",
    "# Запрашиваем у пользователя ширину прямоугольника\n",
    "width = float(input(\"Введите ширину прямоугольника: \"))\n",
    "\n",
    "# Вычисляем площадь прямоугольника\n",
    "area = length * width\n",
    "\n",
    "# Выводим результат\n",
    "print(f\"Площадь прямоугольника: {area}\")"
   ]
  },
  {
   "cell_type": "markdown",
   "id": "6d0ca3ee-0462-4f34-8b40-61701d259aeb",
   "metadata": {},
   "source": [
    "# 5.\tНаписать конвертер валюты. Эта программа будет конвертировать введённую пользователем сумму в другую валюту. Курс валюты можно ввести самостоятельно и один раз."
   ]
  },
  {
   "cell_type": "code",
   "execution_count": 36,
   "id": "ce3c914e-e96b-4ec3-81c0-340242efd561",
   "metadata": {},
   "outputs": [
    {
     "name": "stdin",
     "output_type": "stream",
     "text": [
      "Введите сумму для конвертации:  1000\n",
      "Введите код валюты, из которой конвертировать (например, USD, EUR, CNY, CHF, INR, RUB):  RUB\n",
      "Введите код валюты, в которую конвертировать (например, USD, EUR, CNY, CHF, INR, RUB):  INR\n"
     ]
    },
    {
     "name": "stdout",
     "output_type": "stream",
     "text": [
      "1000.0 RUB = 944.32 INR\n"
     ]
    }
   ],
   "source": [
    "import requests\n",
    "from bs4 import BeautifulSoup\n",
    "\n",
    "def get_exchange_rate(currency_code):\n",
    "    url = \"https://www.cbr.ru/currency_base/daily/\"\n",
    "    response = requests.get(url)\n",
    "    soup = BeautifulSoup(response.text, 'html.parser')\n",
    "\n",
    "    # Находим таблицу с курсами валют\n",
    "    table = soup.find('table', {'class': 'data'})\n",
    "\n",
    "    for row in table.find_all('tr')[1:]:  # Пропускаем заголовок таблицы\n",
    "        columns = row.find_all('td')\n",
    "        if columns[1].text.strip() == currency_code:\n",
    "            # Получаем курс валюты и делим на номинал, чтобы получить курс за 1 единицу\n",
    "            nominal = int(columns[2].text.strip())\n",
    "            rate = float(columns[4].text.replace(',', '.').strip())\n",
    "            return rate / nominal\n",
    "\n",
    "    raise ValueError(f\"Курс для валюты {currency_code} не найден.\")\n",
    "\n",
    "def currency_converter(amount, from_currency, to_currency):\n",
    "    if from_currency == \"RUB\":\n",
    "        rate = get_exchange_rate(to_currency)\n",
    "        converted_amount = amount / rate\n",
    "    elif to_currency == \"RUB\":\n",
    "        rate = get_exchange_rate(from_currency)\n",
    "        converted_amount = amount * rate\n",
    "    else:\n",
    "        rate_from = get_exchange_rate(from_currency)\n",
    "        rate_to = get_exchange_rate(to_currency)\n",
    "        converted_amount = amount * (rate_from / rate_to)\n",
    "\n",
    "    return converted_amount\n",
    "\n",
    "def main():\n",
    "    try:\n",
    "        amount = float(input(\"Введите сумму для конвертации: \"))\n",
    "        from_currency = input(\"Введите код валюты, из которой конвертировать (например, USD, EUR, CNY, CHF, INR, RUB): \").upper()\n",
    "        to_currency = input(\"Введите код валюты, в которую конвертировать (например, USD, EUR, CNY, CHF, INR, RUB): \").upper()\n",
    "\n",
    "        converted_amount = currency_converter(amount, from_currency, to_currency)\n",
    "        print(f\"{amount} {from_currency} = {converted_amount:.2f} {to_currency}\")\n",
    "\n",
    "    except Exception as e:\n",
    "        print(f\"Произошла ошибка: {e}\")\n",
    "\n",
    "if __name__ == \"__main__\":\n",
    "    main()"
   ]
  },
  {
   "cell_type": "code",
   "execution_count": null,
   "id": "0c3d2bab-cc24-4755-8fd5-99a511b8f355",
   "metadata": {},
   "outputs": [],
   "source": []
  }
 ],
 "metadata": {
  "kernelspec": {
   "display_name": "Python 3 (ipykernel)",
   "language": "python",
   "name": "python3"
  },
  "language_info": {
   "codemirror_mode": {
    "name": "ipython",
    "version": 3
   },
   "file_extension": ".py",
   "mimetype": "text/x-python",
   "name": "python",
   "nbconvert_exporter": "python",
   "pygments_lexer": "ipython3",
   "version": "3.11.7"
  }
 },
 "nbformat": 4,
 "nbformat_minor": 5
}
